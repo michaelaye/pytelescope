{
 "cells": [
  {
   "cell_type": "markdown",
   "metadata": {
    "toc": true
   },
   "source": [
    "<h1>Table of Contents<span class=\"tocSkip\"></span></h1>\n",
    "<div class=\"toc\"><ul class=\"toc-item\"><li><span><a href=\"#Shadow-Master\" data-toc-modified-id=\"Shadow-Master-1\"><span class=\"toc-item-num\">1&nbsp;&nbsp;</span>Shadow Master</a></span></li><li><span><a href=\"#Orbiting\" data-toc-modified-id=\"Orbiting-2\"><span class=\"toc-item-num\">2&nbsp;&nbsp;</span>Orbiting</a></span></li><li><span><a href=\"#Solar-spectrum\" data-toc-modified-id=\"Solar-spectrum-3\"><span class=\"toc-item-num\">3&nbsp;&nbsp;</span>Solar spectrum</a></span></li></ul></div>"
   ]
  },
  {
   "cell_type": "markdown",
   "metadata": {},
   "source": [
    "# Shadow Master"
   ]
  },
  {
   "cell_type": "code",
   "execution_count": 1,
   "metadata": {
    "ExecuteTime": {
     "end_time": "2017-10-24T05:54:06.771033Z",
     "start_time": "2017-10-24T05:54:06.030877Z"
    }
   },
   "outputs": [
    {
     "data": {
      "text/plain": [
       "4.6"
      ]
     },
     "execution_count": 1,
     "metadata": {},
     "output_type": "execute_result"
    }
   ],
   "source": [
    "shadow_in_pixels = 9.2\n",
    "res = 0.5  # m\n",
    "shadow_length = shadow_in_pixels * res\n",
    "shadow_length"
   ]
  },
  {
   "cell_type": "code",
   "execution_count": 2,
   "metadata": {
    "ExecuteTime": {
     "end_time": "2017-10-24T05:54:43.581336Z",
     "start_time": "2017-10-24T05:54:43.551273Z"
    }
   },
   "outputs": [],
   "source": [
    "sun_elev = 26  # degree above horizon"
   ]
  },
  {
   "cell_type": "code",
   "execution_count": 1,
   "metadata": {
    "ExecuteTime": {
     "end_time": "2018-03-15T18:38:17.857872Z",
     "start_time": "2018-03-15T18:38:17.831568Z"
    }
   },
   "outputs": [],
   "source": [
    "from math import radians, tan"
   ]
  },
  {
   "cell_type": "code",
   "execution_count": 5,
   "metadata": {
    "ExecuteTime": {
     "end_time": "2017-10-24T05:57:26.994452Z",
     "start_time": "2017-10-24T05:57:26.964135Z"
    }
   },
   "outputs": [
    {
     "data": {
      "text/plain": [
       "2.243569907402962"
      ]
     },
     "execution_count": 5,
     "metadata": {},
     "output_type": "execute_result"
    }
   ],
   "source": [
    "height = tan(radians(sun_elev)) * shadow_length\n",
    "height"
   ]
  },
  {
   "cell_type": "markdown",
   "metadata": {},
   "source": [
    "# Orbiting\n",
    "\n",
    "Combining slew rate with surface travel rates etc."
   ]
  },
  {
   "cell_type": "code",
   "execution_count": 1,
   "metadata": {
    "ExecuteTime": {
     "end_time": "2017-11-07T21:45:09.583318Z",
     "start_time": "2017-11-07T21:45:08.850098Z"
    }
   },
   "outputs": [],
   "source": [
    "slew_rate = 10  # deg/sec"
   ]
  },
  {
   "cell_type": "markdown",
   "metadata": {},
   "source": [
    "Formula for velocity is $$v=\\sqrt{\\frac{G\\cdot M_{body}}{R_{body}}}$$"
   ]
  },
  {
   "cell_type": "code",
   "execution_count": 1,
   "metadata": {
    "ExecuteTime": {
     "end_time": "2018-04-02T05:30:58.154680Z",
     "start_time": "2018-04-02T05:30:53.134588Z"
    }
   },
   "outputs": [
    {
     "name": "stderr",
     "output_type": "stream",
     "text": [
      "/Users/klay6683/Dropbox/src/planetpy/planetpy/factsheet_parse.py:46: FutureWarning: convert_objects is deprecated.  To re-infer data dtypes for object columns, use DataFrame.infer_objects()\n",
      "For all other conversions use the data-type specific converters pd.to_datetime, pd.to_timedelta and pd.to_numeric.\n",
      "  df = df.convert_objects(convert_numeric=True)\n"
     ]
    }
   ],
   "source": [
    "from planetpy import constants as planconst"
   ]
  },
  {
   "cell_type": "code",
   "execution_count": 10,
   "metadata": {
    "ExecuteTime": {
     "end_time": "2018-04-02T05:34:48.171070Z",
     "start_time": "2018-04-02T05:34:48.013434Z"
    }
   },
   "outputs": [],
   "source": [
    "from astropy import constants as const\n",
    "import numpy as np\n",
    "import math\n",
    "from planetpy.constants import mars, earth\n",
    "from astropy import units as u\n",
    "\n",
    "class Orbiter:\n",
    "    \"\"\"Base class for orbiting calculations.\n",
    "    \n",
    "    Parameters\n",
    "    ----------\n",
    "    M : astropy.units.[mass]\n",
    "        Mass of central body\n",
    "    R : astropy.units.[length]\n",
    "        Radius of circular orbit around body with mass M\n",
    "        \n",
    "    Attributes\n",
    "    ----------\n",
    "    G : astropy.constansts.G\n",
    "        Gravitational constant\n",
    "    \"\"\"\n",
    "    G = const.G\n",
    "    \n",
    "    def __init__(self, M, R):\n",
    "        self.M = M\n",
    "        self.R = R\n",
    "        self.alt = R - self.R_body\n",
    "        \n",
    "    @property\n",
    "    def v(self):\n",
    "        \"Return orbital velocity.\"\n",
    "        return np.sqrt(self.G*self.M/self.R).decompose()\n",
    "    \n",
    "    @property\n",
    "    def surface_circumference(self):\n",
    "        \"Calculate circumference of circular central body.\"\n",
    "        return math.tau * self.R_body\n",
    "    \n",
    "    @property\n",
    "    def orbitpath(self):\n",
    "        \"Return circumference of circular orbit around central body.\"\n",
    "        return math.tau * self.R\n",
    "    \n",
    "    @property\n",
    "    def T(self):\n",
    "        \"Return orbital period time T.\"\n",
    "        return (self.orbitpath / self.v).decompose()\n",
    "    \n",
    "    @property\n",
    "    def v_surf(self):\n",
    "        \"Return surface footprint speed.\"\n",
    "        return (self.surface_circumference / self.T).decompose()\n",
    "    \n",
    "    def ground_travel(self, t):\n",
    "        \"Return footprint travel distance in time `t`.\"\n",
    "        return self.v_surf * t\n",
    "    \n",
    "    @property\n",
    "    def slew_rate(self):\n",
    "        \"Return calculated slew rate in degrees/second for targeting one ground spot.\"\n",
    "        gt = self.ground_travel(1 * u.s)\n",
    "        return np.arctan(gt/self.alt).to(u.degree) / u.s\n",
    "    \n",
    "\n",
    "class MarsOrbiter(Orbiter):\n",
    "    \"\"\"Specialized Orbiter class for Mars.\n",
    "    \n",
    "    Parameters\n",
    "    ----------\n",
    "    alt : astropy.unit.length[km, m, etc]\n",
    "        Value for Orbital altitude above ground.\n",
    "        \n",
    "    Attributes\n",
    "    ----------\n",
    "    M : astropy.units.mass\n",
    "        Mass of Mars\n",
    "    R_body : astropy.units.length\n",
    "        Radius of Mars\n",
    "    \"\"\"\n",
    "    M = mars.mass * 1e24 * u.kg\n",
    "    R_body = mars.diameter / 2 * u.km\n",
    "    \n",
    "    def __init__(self, alt):\n",
    "        super().__init__(self.M, self.R_body+alt)\n",
    "        \n",
    "        \n",
    "class EarthOrbiter(Orbiter):\n",
    "    \n",
    "    M = earth.mass * 1e24 * u.kg\n",
    "    R_body = earth.diameter / 2 * u.km\n",
    "    \n",
    "    def __init__(self, d):\n",
    "        super().__init__(self.M, self.R_body+d)"
   ]
  },
  {
   "cell_type": "code",
   "execution_count": 11,
   "metadata": {
    "ExecuteTime": {
     "end_time": "2018-04-02T05:34:49.115417Z",
     "start_time": "2018-04-02T05:34:49.080384Z"
    }
   },
   "outputs": [],
   "source": [
    "orb = MarsOrbiter(350 * u.km)"
   ]
  },
  {
   "cell_type": "code",
   "execution_count": 12,
   "metadata": {
    "ExecuteTime": {
     "end_time": "2018-04-02T05:34:49.661278Z",
     "start_time": "2018-04-02T05:34:49.625065Z"
    }
   },
   "outputs": [
    {
     "data": {
      "text/latex": [
       "$1.9331511 \\; \\mathrm{h}$"
      ],
      "text/plain": [
       "<Quantity 1.93315114 h>"
      ]
     },
     "execution_count": 12,
     "metadata": {},
     "output_type": "execute_result"
    }
   ],
   "source": [
    "orb.T.to(u.hour)"
   ]
  },
  {
   "cell_type": "code",
   "execution_count": 13,
   "metadata": {
    "ExecuteTime": {
     "end_time": "2018-04-02T05:34:50.390596Z",
     "start_time": "2018-04-02T05:34:50.351308Z"
    }
   },
   "outputs": [
    {
     "data": {
      "text/latex": [
       "$0.50190638 \\; \\mathrm{\\frac{{}^{\\circ}}{s}}$"
      ],
      "text/plain": [
       "<Quantity 0.50190638 deg / s>"
      ]
     },
     "execution_count": 13,
     "metadata": {},
     "output_type": "execute_result"
    }
   ],
   "source": [
    "orb.slew_rate"
   ]
  },
  {
   "cell_type": "code",
   "execution_count": 22,
   "metadata": {
    "ExecuteTime": {
     "end_time": "2018-04-02T05:44:12.701277Z",
     "start_time": "2018-04-02T05:44:12.588499Z"
    }
   },
   "outputs": [
    {
     "data": {
      "text/latex": [
       "$0.0050191922 \\; \\mathrm{{}^{\\circ}}$"
      ],
      "text/plain": [
       "<Quantity 0.00501919 deg>"
      ]
     },
     "execution_count": 22,
     "metadata": {},
     "output_type": "execute_result"
    }
   ],
   "source": [
    "gt = orb.ground_travel(10 * u.millisecond) + 0 *u.meter\n",
    "np.arctan(gt/orb.alt).to(u.degree)"
   ]
  },
  {
   "cell_type": "code",
   "execution_count": 23,
   "metadata": {
    "ExecuteTime": {
     "end_time": "2018-04-02T05:44:22.171272Z",
     "start_time": "2018-04-02T05:44:22.123317Z"
    }
   },
   "outputs": [
    {
     "data": {
      "text/latex": [
       "$0.0058377033 \\; \\mathrm{{}^{\\circ}}$"
      ],
      "text/plain": [
       "<Quantity 0.0058377 deg>"
      ]
     },
     "execution_count": 23,
     "metadata": {},
     "output_type": "execute_result"
    }
   ],
   "source": [
    "gt = orb.ground_travel(10 * u.millisecond) + 5 *u.meter\n",
    "np.arctan(gt/orb.alt).to(u.degree)"
   ]
  },
  {
   "cell_type": "code",
   "execution_count": 26,
   "metadata": {
    "ExecuteTime": {
     "end_time": "2018-04-02T05:46:34.336598Z",
     "start_time": "2018-04-02T05:46:34.273274Z"
    }
   },
   "outputs": [
    {
     "data": {
      "text/plain": [
       "0.08199999999999996"
      ]
     },
     "execution_count": 26,
     "metadata": {},
     "output_type": "execute_result"
    }
   ],
   "source": [
    "(0.584 - 0.502)"
   ]
  },
  {
   "cell_type": "code",
   "execution_count": 15,
   "metadata": {
    "ExecuteTime": {
     "end_time": "2018-04-02T05:34:54.364728Z",
     "start_time": "2018-04-02T05:34:54.329300Z"
    }
   },
   "outputs": [
    {
     "data": {
      "text/latex": [
       "$350 \\; \\mathrm{km}$"
      ],
      "text/plain": [
       "<Quantity 350. km>"
      ]
     },
     "execution_count": 15,
     "metadata": {},
     "output_type": "execute_result"
    }
   ],
   "source": [
    "orb.alt"
   ]
  },
  {
   "cell_type": "code",
   "execution_count": 16,
   "metadata": {
    "ExecuteTime": {
     "end_time": "2018-04-02T05:35:48.042893Z",
     "start_time": "2018-04-02T05:35:48.003728Z"
    }
   },
   "outputs": [
    {
     "data": {
      "text/latex": [
       "$3382.0446 \\; \\mathrm{\\frac{m}{s}}$"
      ],
      "text/plain": [
       "<Quantity 3382.04460853 m / s>"
      ]
     },
     "execution_count": 16,
     "metadata": {},
     "output_type": "execute_result"
    }
   ],
   "source": [
    "orb.v"
   ]
  },
  {
   "cell_type": "code",
   "execution_count": 14,
   "metadata": {
    "ExecuteTime": {
     "end_time": "2018-03-15T18:43:33.573145Z",
     "start_time": "2018-03-15T18:43:33.533064Z"
    }
   },
   "outputs": [
    {
     "data": {
      "text/latex": [
       "$3005.6721 \\; \\mathrm{\\frac{m}{s}}$"
      ],
      "text/plain": [
       "<Quantity 3005.67205843 m / s>"
      ]
     },
     "execution_count": 14,
     "metadata": {},
     "output_type": "execute_result"
    }
   ],
   "source": [
    "orb.v_surf"
   ]
  },
  {
   "cell_type": "code",
   "execution_count": 50,
   "metadata": {
    "ExecuteTime": {
     "end_time": "2018-03-15T19:27:27.432210Z",
     "start_time": "2018-03-15T19:27:27.038456Z"
    }
   },
   "outputs": [],
   "source": [
    "from planetpy.missions import planning"
   ]
  },
  {
   "cell_type": "code",
   "execution_count": 61,
   "metadata": {
    "ExecuteTime": {
     "end_time": "2018-03-15T19:34:17.375604Z",
     "start_time": "2018-03-15T19:34:17.333809Z"
    }
   },
   "outputs": [
    {
     "name": "stdout",
     "output_type": "stream",
     "text": [
      "Assuming kilometers as unit for input parameter.\n"
     ]
    }
   ],
   "source": [
    "orb = planning.MarsOrbiter(250)"
   ]
  },
  {
   "cell_type": "markdown",
   "metadata": {
    "ExecuteTime": {
     "end_time": "2018-03-15T19:34:31.907803Z",
     "start_time": "2018-03-15T19:34:31.856583Z"
    }
   },
   "source": [
    "# Solar spectrum"
   ]
  },
  {
   "cell_type": "code",
   "execution_count": 17,
   "metadata": {
    "ExecuteTime": {
     "end_time": "2018-03-16T04:43:59.402685Z",
     "start_time": "2018-03-16T04:43:59.324213Z"
    }
   },
   "outputs": [],
   "source": [
    "%matplotlib ipympl"
   ]
  },
  {
   "cell_type": "code",
   "execution_count": 216,
   "metadata": {
    "ExecuteTime": {
     "end_time": "2018-03-16T07:25:11.067752Z",
     "start_time": "2018-03-16T07:25:10.583291Z"
    }
   },
   "outputs": [],
   "source": [
    "from pyspectral.solar import (SolarIrradianceSpectrum, \n",
    "                              TOTAL_IRRADIANCE_SPECTRUM_2000ASTM,\n",
    "                             )\n",
    "import astropy.units as u\n",
    "from astropy.constants import h, c\n",
    "from scipy.interpolate import InterpolatedUnivariateSpline\n",
    "import math\n",
    "\n",
    "class Radiometry:\n",
    "    E_w_unit_in = u.Watt/u.m/u.m/u.micron\n",
    "    E_w_unit_out = u.Watt/u.m/u.m/u.nm\n",
    "    E_ph_unit = 1/(u.s*u.m*u.m*u.nm)\n",
    "    lw = 0.75\n",
    "    rootpath = Path(\"/Users/klay6683/Documents/proposals/2018/MAPSE/\")\n",
    "    def __init__(self, wave1=200*u.nm, wave2=1200*u.nm, dlambda=1*u.nm,\n",
    "                 i=75*u.deg, d=1.51):\n",
    "        self.wave1 = wave1\n",
    "        self.wave2 = wave2\n",
    "        self.dlambda = dlambda\n",
    "        self.i = i  # incidence angle\n",
    "        self.d = d  # Mars distance in AU (scaling the solar flux)\n",
    "        sol = SolarIrradianceSpectrum(TOTAL_IRRADIANCE_SPECTRUM_2000ASTM)\n",
    "        sol.interpolate(dlambda=dlambda.to(u.micron).value, \n",
    "                        ival_wavelength=(wave1.to(u.micron).value,\n",
    "                                         wave2.to(u.micron).value))\n",
    "        self.waves = (sol.ipol_wavelength*u.micron).to(u.nm)\n",
    "        self.E_w = (sol.ipol_irradiance*self.E_w_unit_in).to(self.E_w_unit_out)\n",
    "        \n",
    "        self.reflectance = pd.read_csv(self.rootpath / 'giza_crism_bright_areas.csv')\n",
    "        self.reflectance = self.reflectance.sort_values(by='Wavelength[nm]')\n",
    "        \n",
    "        self.QE = pd.read_csv(self.rootpath / 'midband_coated_QE.csv')\n",
    "        self.QE = self.QE.sort_values(by='Wavelength[nm]')\n",
    "        \n",
    "    @property\n",
    "    def QE_rsr(self):\n",
    "        d = {}\n",
    "        d['wavelength'] = self.QE.iloc[:, 0]\n",
    "        d['response'] = self.QE.iloc[:, 1]\n",
    "        return d\n",
    "        \n",
    "    @property\n",
    "    def rsr(self):\n",
    "        d = {}\n",
    "        d['wavelength'] = self.reflectance.iloc[:, 0]\n",
    "        d['response'] = self.reflectance.iloc[:, 1]\n",
    "        return d\n",
    "    \n",
    "    def plot_E_w(self, ax=None):\n",
    "        xlim = [self.wave1.value, self.wave2.value]\n",
    "        \n",
    "        if ax is None:\n",
    "            _, ax = plt.subplots(figsize=(8,4))\n",
    "\n",
    "        ax.plot(self.waves, self.E_w, lw=self.lw)\n",
    "        ax.set_xlim(xlim)\n",
    "        ax.set_ylim(0, 2.5)\n",
    "        ax.grid(True)\n",
    "        ax.set_xlabel(f\"Wavelength [{self.waves.unit}]\")\n",
    "        ax.set_ylabel(f\"Spectral irradiance [{self.E_w.unit}]\")\n",
    "        ax.set_title(\"Spectral irradiance ($E_w$)\")\n",
    "        \n",
    "    @property\n",
    "    def ph_per_energy(self):\n",
    "        return self.waves/(h*c)\n",
    "    \n",
    "    @property\n",
    "    def E_ph(self):\n",
    "        return (self.E_w * self.ph_per_energy).to(self.E_ph_unit)\n",
    "    \n",
    "    def plot_E_ph(self, ax=None):\n",
    "        xlim = [self.wave1.value, self.wave2.value]\n",
    "        \n",
    "        if ax is None:\n",
    "            _, ax = plt.subplots(figsize=(8,4))\n",
    "\n",
    "        ax.plot(self.waves, self.E_ph, lw=self.lw)\n",
    "        ax.set_xlim(xlim)\n",
    "        ax.set_ylim(ymin=0, ymax=6e18)\n",
    "        ax.grid(True)\n",
    "        ax.set_xlabel(f\"Wavelength [{self.waves.unit}]\")\n",
    "        ax.set_ylabel(f\"Spectral irradiance [{self.E_ph.unit}]\")\n",
    "        ax.set_title(\"Spectral irradiance ($E_{ph}$)\")\n",
    "        \n",
    "            \n",
    "    @property\n",
    "    def resp_ipol(self):\n",
    "        ius = InterpolatedUnivariateSpline(self.rsr['wavelength'],\n",
    "                                           self.rsr['response'],\n",
    "                                           k=1)\n",
    "        return ius(self.waves.value)\n",
    "    \n",
    "    @property\n",
    "    def QE_ipol(self):\n",
    "        ius = InterpolatedUnivariateSpline(self.QE_rsr['wavelength'],\n",
    "                                           self.QE_rsr['response'],\n",
    "                                           k=1)\n",
    "        return ius(self.waves.values)\n",
    "        \n",
    "    @property\n",
    "    def L_surf(self):\n",
    "        term1 = self.E_ph/self.d**2\n",
    "        term2 = math.cos(self.i.to(u.rad).value) / math.pi\n",
    "        term3 = self.resp_ipol\n",
    "        return term1*term2*term3"
   ]
  },
  {
   "cell_type": "code",
   "execution_count": 228,
   "metadata": {
    "ExecuteTime": {
     "end_time": "2018-03-16T07:28:26.047921Z",
     "start_time": "2018-03-16T07:28:25.981445Z"
    }
   },
   "outputs": [],
   "source": [
    "radio = Radiometry()"
   ]
  },
  {
   "cell_type": "code",
   "execution_count": 229,
   "metadata": {
    "ExecuteTime": {
     "end_time": "2018-03-16T07:28:26.705108Z",
     "start_time": "2018-03-16T07:28:26.651301Z"
    }
   },
   "outputs": [
    {
     "ename": "AttributeError",
     "evalue": "'Quantity' object has no 'values' member",
     "output_type": "error",
     "traceback": [
      "\u001b[0;31m---------------------------------------------------------------------------\u001b[0m",
      "\u001b[0;31mAttributeError\u001b[0m                            Traceback (most recent call last)",
      "\u001b[0;32m<ipython-input-229-d21eb7cac903>\u001b[0m in \u001b[0;36m<module>\u001b[0;34m()\u001b[0m\n\u001b[0;32m----> 1\u001b[0;31m \u001b[0mradio\u001b[0m\u001b[0;34m.\u001b[0m\u001b[0mQE_ipol\u001b[0m\u001b[0;34m\u001b[0m\u001b[0m\n\u001b[0m",
      "\u001b[0;32m<ipython-input-216-beaf6e480428>\u001b[0m in \u001b[0;36mQE_ipol\u001b[0;34m(self)\u001b[0m\n\u001b[1;32m     96\u001b[0m                                            \u001b[0mself\u001b[0m\u001b[0;34m.\u001b[0m\u001b[0mQE_rsr\u001b[0m\u001b[0;34m[\u001b[0m\u001b[0;34m'response'\u001b[0m\u001b[0;34m]\u001b[0m\u001b[0;34m,\u001b[0m\u001b[0;34m\u001b[0m\u001b[0m\n\u001b[1;32m     97\u001b[0m                                            k=1)\n\u001b[0;32m---> 98\u001b[0;31m         \u001b[0;32mreturn\u001b[0m \u001b[0mius\u001b[0m\u001b[0;34m(\u001b[0m\u001b[0mself\u001b[0m\u001b[0;34m.\u001b[0m\u001b[0mwaves\u001b[0m\u001b[0;34m.\u001b[0m\u001b[0mvalues\u001b[0m\u001b[0;34m)\u001b[0m\u001b[0;34m\u001b[0m\u001b[0m\n\u001b[0m\u001b[1;32m     99\u001b[0m \u001b[0;34m\u001b[0m\u001b[0m\n\u001b[1;32m    100\u001b[0m     \u001b[0;34m@\u001b[0m\u001b[0mproperty\u001b[0m\u001b[0;34m\u001b[0m\u001b[0m\n",
      "\u001b[0;32m~/miniconda3/envs/stable/lib/python3.6/site-packages/astropy/units/quantity.py\u001b[0m in \u001b[0;36m__getattr__\u001b[0;34m(self, attr)\u001b[0m\n\u001b[1;32m    986\u001b[0m                 \"'{0}' object has no '{1}' member\".format(\n\u001b[1;32m    987\u001b[0m                     \u001b[0mself\u001b[0m\u001b[0;34m.\u001b[0m\u001b[0m__class__\u001b[0m\u001b[0;34m.\u001b[0m\u001b[0m__name__\u001b[0m\u001b[0;34m,\u001b[0m\u001b[0;34m\u001b[0m\u001b[0m\n\u001b[0;32m--> 988\u001b[0;31m                     attr))\n\u001b[0m\u001b[1;32m    989\u001b[0m \u001b[0;34m\u001b[0m\u001b[0m\n\u001b[1;32m    990\u001b[0m         \u001b[0;32mdef\u001b[0m \u001b[0mget_virtual_unit_attribute\u001b[0m\u001b[0;34m(\u001b[0m\u001b[0;34m)\u001b[0m\u001b[0;34m:\u001b[0m\u001b[0;34m\u001b[0m\u001b[0m\n",
      "\u001b[0;31mAttributeError\u001b[0m: 'Quantity' object has no 'values' member"
     ]
    }
   ],
   "source": [
    "radio.QE_ipol"
   ]
  },
  {
   "cell_type": "code",
   "execution_count": 232,
   "metadata": {
    "ExecuteTime": {
     "end_time": "2018-03-16T07:29:02.015014Z",
     "start_time": "2018-03-16T07:29:01.908294Z"
    }
   },
   "outputs": [
    {
     "name": "stderr",
     "output_type": "stream",
     "text": [
      "/Users/klay6683/miniconda3/envs/stable/lib/python3.6/site-packages/matplotlib/__init__.py:932: MatplotlibDeprecationWarning: nbagg.transparent is deprecated and ignored. Use figure.facecolor instead.\n",
      "  mplDeprecation)\n"
     ]
    },
    {
     "data": {
      "application/vnd.jupyter.widget-view+json": {
       "model_id": "2356a49afca2474a8ff1083b0fa129d9",
       "version_major": 2,
       "version_minor": 0
      },
      "text/html": [
       "<p>Failed to display Jupyter Widget of type <code>FigureCanvasNbAgg</code>.</p>\n",
       "<p>\n",
       "  If you're reading this message in the Jupyter Notebook or JupyterLab Notebook, it may mean\n",
       "  that the widgets JavaScript is still loading. If this message persists, it\n",
       "  likely means that the widgets JavaScript library is either not installed or\n",
       "  not enabled. See the <a href=\"https://ipywidgets.readthedocs.io/en/stable/user_install.html\">Jupyter\n",
       "  Widgets Documentation</a> for setup instructions.\n",
       "</p>\n",
       "<p>\n",
       "  If you're reading this message in another frontend (for example, a static\n",
       "  rendering on GitHub or <a href=\"https://nbviewer.jupyter.org/\">NBViewer</a>),\n",
       "  it may mean that your frontend doesn't currently support widgets.\n",
       "</p>\n"
      ],
      "text/plain": [
       "FigureCanvasNbAgg()"
      ]
     },
     "metadata": {},
     "output_type": "display_data"
    }
   ],
   "source": [
    "fig, ax = plt.subplots(ncols=2, figsize=(10,4))\n",
    "radio.plot_E_w(ax[0])\n",
    "radio.plot_E_ph(ax[1])"
   ]
  },
  {
   "cell_type": "code",
   "execution_count": 231,
   "metadata": {
    "ExecuteTime": {
     "end_time": "2018-03-16T07:29:00.068073Z",
     "start_time": "2018-03-16T07:28:59.998719Z"
    }
   },
   "outputs": [],
   "source": [
    "plt.close('all')"
   ]
  },
  {
   "cell_type": "code",
   "execution_count": 233,
   "metadata": {
    "ExecuteTime": {
     "end_time": "2018-03-16T07:29:03.801162Z",
     "start_time": "2018-03-16T07:29:03.768309Z"
    }
   },
   "outputs": [],
   "source": [
    "from scipy.interpolate import InterpolatedUnivariateSpline\n"
   ]
  },
  {
   "cell_type": "code",
   "execution_count": 234,
   "metadata": {
    "ExecuteTime": {
     "end_time": "2018-03-16T07:29:04.416862Z",
     "start_time": "2018-03-16T07:29:04.336347Z"
    },
    "scrolled": false
   },
   "outputs": [
    {
     "name": "stderr",
     "output_type": "stream",
     "text": [
      "/Users/klay6683/miniconda3/envs/stable/lib/python3.6/site-packages/matplotlib/__init__.py:932: MatplotlibDeprecationWarning: nbagg.transparent is deprecated and ignored. Use figure.facecolor instead.\n",
      "  mplDeprecation)\n"
     ]
    },
    {
     "data": {
      "application/vnd.jupyter.widget-view+json": {
       "model_id": "60d70c37b1c6430fb799f92b37e073f6",
       "version_major": 2,
       "version_minor": 0
      },
      "text/html": [
       "<p>Failed to display Jupyter Widget of type <code>FigureCanvasNbAgg</code>.</p>\n",
       "<p>\n",
       "  If you're reading this message in the Jupyter Notebook or JupyterLab Notebook, it may mean\n",
       "  that the widgets JavaScript is still loading. If this message persists, it\n",
       "  likely means that the widgets JavaScript library is either not installed or\n",
       "  not enabled. See the <a href=\"https://ipywidgets.readthedocs.io/en/stable/user_install.html\">Jupyter\n",
       "  Widgets Documentation</a> for setup instructions.\n",
       "</p>\n",
       "<p>\n",
       "  If you're reading this message in another frontend (for example, a static\n",
       "  rendering on GitHub or <a href=\"https://nbviewer.jupyter.org/\">NBViewer</a>),\n",
       "  it may mean that your frontend doesn't currently support widgets.\n",
       "</p>\n"
      ],
      "text/plain": [
       "FigureCanvasNbAgg()"
      ]
     },
     "metadata": {},
     "output_type": "display_data"
    },
    {
     "data": {
      "text/plain": [
       "[<matplotlib.lines.Line2D at 0x11a1316a0>]"
      ]
     },
     "execution_count": 234,
     "metadata": {},
     "output_type": "execute_result"
    }
   ],
   "source": [
    "plt.figure()\n",
    "plt.plot(radio.rsr['wavelength'],\n",
    "         radio.rsr['response'])"
   ]
  },
  {
   "cell_type": "code",
   "execution_count": 236,
   "metadata": {
    "ExecuteTime": {
     "end_time": "2018-03-16T07:29:17.109793Z",
     "start_time": "2018-03-16T07:29:17.020366Z"
    },
    "scrolled": false
   },
   "outputs": [
    {
     "name": "stderr",
     "output_type": "stream",
     "text": [
      "/Users/klay6683/miniconda3/envs/stable/lib/python3.6/site-packages/matplotlib/__init__.py:932: MatplotlibDeprecationWarning: nbagg.transparent is deprecated and ignored. Use figure.facecolor instead.\n",
      "  mplDeprecation)\n"
     ]
    },
    {
     "data": {
      "application/vnd.jupyter.widget-view+json": {
       "model_id": "141e044615f44133b4d666b3c11a908f",
       "version_major": 2,
       "version_minor": 0
      },
      "text/html": [
       "<p>Failed to display Jupyter Widget of type <code>FigureCanvasNbAgg</code>.</p>\n",
       "<p>\n",
       "  If you're reading this message in the Jupyter Notebook or JupyterLab Notebook, it may mean\n",
       "  that the widgets JavaScript is still loading. If this message persists, it\n",
       "  likely means that the widgets JavaScript library is either not installed or\n",
       "  not enabled. See the <a href=\"https://ipywidgets.readthedocs.io/en/stable/user_install.html\">Jupyter\n",
       "  Widgets Documentation</a> for setup instructions.\n",
       "</p>\n",
       "<p>\n",
       "  If you're reading this message in another frontend (for example, a static\n",
       "  rendering on GitHub or <a href=\"https://nbviewer.jupyter.org/\">NBViewer</a>),\n",
       "  it may mean that your frontend doesn't currently support widgets.\n",
       "</p>\n"
      ],
      "text/plain": [
       "FigureCanvasNbAgg()"
      ]
     },
     "metadata": {},
     "output_type": "display_data"
    },
    {
     "data": {
      "text/plain": [
       "[<matplotlib.lines.Line2D at 0x11742ac18>]"
      ]
     },
     "execution_count": 236,
     "metadata": {},
     "output_type": "execute_result"
    }
   ],
   "source": [
    "plt.figure()\n",
    "plt.plot(radio.QE_rsr['wavelength'],\n",
    "         radio.QE_rsr['response'])"
   ]
  },
  {
   "cell_type": "code",
   "execution_count": 237,
   "metadata": {
    "ExecuteTime": {
     "end_time": "2018-03-16T07:29:31.863046Z",
     "start_time": "2018-03-16T07:29:31.821479Z"
    }
   },
   "outputs": [],
   "source": [
    "ius_qe = InterpolatedUnivariateSpline(radio.QE_rsr['wavelength'], radio.QE_rsr['response'],\n",
    "                                   k=1)\n",
    "\n",
    "QE_ipol = ius(radio.waves.value)"
   ]
  },
  {
   "cell_type": "code",
   "execution_count": 238,
   "metadata": {
    "ExecuteTime": {
     "end_time": "2018-03-16T07:29:32.528471Z",
     "start_time": "2018-03-16T07:29:32.493527Z"
    }
   },
   "outputs": [],
   "source": [
    "ius = InterpolatedUnivariateSpline(radio.rsr['wavelength'], radio.rsr['response'],\n",
    "                                   k=1)\n",
    "\n",
    "resp_ipol = ius(radio.waves.value)"
   ]
  },
  {
   "cell_type": "code",
   "execution_count": 239,
   "metadata": {
    "ExecuteTime": {
     "end_time": "2018-03-16T07:29:33.421464Z",
     "start_time": "2018-03-16T07:29:33.278833Z"
    }
   },
   "outputs": [
    {
     "name": "stderr",
     "output_type": "stream",
     "text": [
      "/Users/klay6683/miniconda3/envs/stable/lib/python3.6/site-packages/matplotlib/__init__.py:932: MatplotlibDeprecationWarning: nbagg.transparent is deprecated and ignored. Use figure.facecolor instead.\n",
      "  mplDeprecation)\n"
     ]
    },
    {
     "data": {
      "application/vnd.jupyter.widget-view+json": {
       "model_id": "e3b266879ff8435a9101db198f21b652",
       "version_major": 2,
       "version_minor": 0
      },
      "text/html": [
       "<p>Failed to display Jupyter Widget of type <code>FigureCanvasNbAgg</code>.</p>\n",
       "<p>\n",
       "  If you're reading this message in the Jupyter Notebook or JupyterLab Notebook, it may mean\n",
       "  that the widgets JavaScript is still loading. If this message persists, it\n",
       "  likely means that the widgets JavaScript library is either not installed or\n",
       "  not enabled. See the <a href=\"https://ipywidgets.readthedocs.io/en/stable/user_install.html\">Jupyter\n",
       "  Widgets Documentation</a> for setup instructions.\n",
       "</p>\n",
       "<p>\n",
       "  If you're reading this message in another frontend (for example, a static\n",
       "  rendering on GitHub or <a href=\"https://nbviewer.jupyter.org/\">NBViewer</a>),\n",
       "  it may mean that your frontend doesn't currently support widgets.\n",
       "</p>\n"
      ],
      "text/plain": [
       "FigureCanvasNbAgg()"
      ]
     },
     "metadata": {},
     "output_type": "display_data"
    },
    {
     "data": {
      "text/plain": [
       "[<matplotlib.lines.Line2D at 0x117216668>]"
      ]
     },
     "execution_count": 239,
     "metadata": {},
     "output_type": "execute_result"
    }
   ],
   "source": [
    "plt.figure()\n",
    "plt.plot(radio.QE_rsr['wavelength'],\n",
    "         radio.QE_rsr['response'])\n",
    "plt.plot(radio.waves,\n",
    "         QE_ipol, '--', color='red')"
   ]
  },
  {
   "cell_type": "code",
   "execution_count": 226,
   "metadata": {
    "ExecuteTime": {
     "end_time": "2018-03-16T07:27:23.258494Z",
     "start_time": "2018-03-16T07:27:23.136447Z"
    }
   },
   "outputs": [
    {
     "name": "stderr",
     "output_type": "stream",
     "text": [
      "/Users/klay6683/miniconda3/envs/stable/lib/python3.6/site-packages/matplotlib/__init__.py:932: MatplotlibDeprecationWarning: nbagg.transparent is deprecated and ignored. Use figure.facecolor instead.\n",
      "  mplDeprecation)\n"
     ]
    },
    {
     "data": {
      "application/vnd.jupyter.widget-view+json": {
       "model_id": "91387aab8c83448ea75653861f62638a",
       "version_major": 2,
       "version_minor": 0
      },
      "text/html": [
       "<p>Failed to display Jupyter Widget of type <code>FigureCanvasNbAgg</code>.</p>\n",
       "<p>\n",
       "  If you're reading this message in the Jupyter Notebook or JupyterLab Notebook, it may mean\n",
       "  that the widgets JavaScript is still loading. If this message persists, it\n",
       "  likely means that the widgets JavaScript library is either not installed or\n",
       "  not enabled. See the <a href=\"https://ipywidgets.readthedocs.io/en/stable/user_install.html\">Jupyter\n",
       "  Widgets Documentation</a> for setup instructions.\n",
       "</p>\n",
       "<p>\n",
       "  If you're reading this message in another frontend (for example, a static\n",
       "  rendering on GitHub or <a href=\"https://nbviewer.jupyter.org/\">NBViewer</a>),\n",
       "  it may mean that your frontend doesn't currently support widgets.\n",
       "</p>\n"
      ],
      "text/plain": [
       "FigureCanvasNbAgg()"
      ]
     },
     "metadata": {},
     "output_type": "display_data"
    },
    {
     "data": {
      "text/plain": [
       "[<matplotlib.lines.Line2D at 0x118ee54a8>]"
      ]
     },
     "execution_count": 226,
     "metadata": {},
     "output_type": "execute_result"
    }
   ],
   "source": [
    "plt.figure()\n",
    "plt.plot(radio.rsr['wavelength'],\n",
    "         radio.rsr['response'])\n",
    "plt.plot(radio.waves,\n",
    "         resp_ipol, '--', color='red')"
   ]
  },
  {
   "cell_type": "code",
   "execution_count": 160,
   "metadata": {
    "ExecuteTime": {
     "end_time": "2018-03-16T07:01:36.235440Z",
     "start_time": "2018-03-16T07:01:36.192031Z"
    }
   },
   "outputs": [],
   "source": [
    "InterpolatedUnivariateSpline?"
   ]
  },
  {
   "cell_type": "code",
   "execution_count": null,
   "metadata": {},
   "outputs": [],
   "source": []
  }
 ],
 "metadata": {
  "kernelspec": {
   "display_name": "Python [conda env:stable]",
   "language": "python",
   "name": "conda-env-stable-py"
  },
  "language_info": {
   "codemirror_mode": {
    "name": "ipython",
    "version": 3
   },
   "file_extension": ".py",
   "mimetype": "text/x-python",
   "name": "python",
   "nbconvert_exporter": "python",
   "pygments_lexer": "ipython3",
   "version": "3.6.4"
  },
  "toc": {
   "nav_menu": {},
   "number_sections": true,
   "sideBar": true,
   "skip_h1_title": false,
   "title_cell": "Table of Contents",
   "title_sidebar": "Contents",
   "toc_cell": true,
   "toc_position": {},
   "toc_section_display": "block",
   "toc_window_display": false
  }
 },
 "nbformat": 4,
 "nbformat_minor": 2
}
