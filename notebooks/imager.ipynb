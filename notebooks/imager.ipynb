{
 "cells": [
  {
   "cell_type": "markdown",
   "metadata": {
    "toc": true
   },
   "source": [
    "<h1>Table of Contents<span class=\"tocSkip\"></span></h1>\n",
    "<div class=\"toc\"><ul class=\"toc-item\"><li><span><a href=\"#Orbiting\" data-toc-modified-id=\"Orbiting-1\"><span class=\"toc-item-num\">1&nbsp;&nbsp;</span>Orbiting</a></span></li><li><span><a href=\"#Solar-spectrum\" data-toc-modified-id=\"Solar-spectrum-2\"><span class=\"toc-item-num\">2&nbsp;&nbsp;</span>Solar spectrum</a></span></li></ul></div>"
   ]
  },
  {
   "cell_type": "code",
   "execution_count": 1,
   "metadata": {},
   "outputs": [],
   "source": [
    "%matplotlib ipympl"
   ]
  },
  {
   "cell_type": "markdown",
   "metadata": {},
   "source": [
    "# Orbiting\n",
    "\n",
    "Combining slew rate with surface travel rates etc."
   ]
  },
  {
   "cell_type": "code",
   "execution_count": 2,
   "metadata": {
    "ExecuteTime": {
     "end_time": "2018-04-17T09:33:18.993980Z",
     "start_time": "2018-04-17T09:33:15.309275Z"
    }
   },
   "outputs": [
    {
     "name": "stdout",
     "output_type": "stream",
     "text": [
      "Assuming kilometers as unit for input parameter.\n"
     ]
    }
   ],
   "source": [
    "from astropy import units as u\n",
    "from pytelescope import orbiter\n",
    "orb = orbiter.MarsOrbiter(350)"
   ]
  },
  {
   "cell_type": "code",
   "execution_count": 3,
   "metadata": {
    "ExecuteTime": {
     "end_time": "2018-04-17T09:33:20.955976Z",
     "start_time": "2018-04-17T09:33:20.910934Z"
    }
   },
   "outputs": [
    {
     "data": {
      "text/latex": [
       "$3384.209 \\; \\mathrm{\\frac{m}{s}}$"
      ],
      "text/plain": [
       "<Quantity 3384.2089663 m / s>"
      ]
     },
     "execution_count": 3,
     "metadata": {},
     "output_type": "execute_result"
    }
   ],
   "source": [
    "orb.v"
   ]
  },
  {
   "cell_type": "markdown",
   "metadata": {},
   "source": [
    "# Reflectances"
   ]
  },
  {
   "cell_type": "code",
   "execution_count": 4,
   "metadata": {
    "ExecuteTime": {
     "end_time": "2018-04-17T09:33:25.733452Z",
     "start_time": "2018-04-17T09:33:25.591659Z"
    }
   },
   "outputs": [],
   "source": [
    "import astropy.units as u\n",
    "from astropy.constants import h, c\n",
    "from scipy.interpolate import InterpolatedUnivariateSpline\n",
    "import math"
   ]
  },
  {
   "cell_type": "code",
   "execution_count": 5,
   "metadata": {},
   "outputs": [],
   "source": [
    "rootpath = Path(\"/Users/klay6683/Documents/proposals/2018/MAPSE/\")"
   ]
  },
  {
   "cell_type": "code",
   "execution_count": 6,
   "metadata": {},
   "outputs": [],
   "source": [
    "def interpolate(rsr, target_waves):\n",
    "    ius = InterpolatedUnivariateSpline(rsr['wavelength'], \n",
    "                                       rsr['response'],\n",
    "                                       k=1)\n",
    "    return ius(target_waves)\n",
    "\n",
    "\n",
    "class Albedo:\n",
    "    def __init__(self, csvfilepath):\n",
    "        df = pd.read_csv(csvfilepath)\n",
    "        self.albedo = df.sort_values(by='Wavelength[nm]')\n",
    "\n",
    "    @property\n",
    "    def rsr(self):\n",
    "        d = {}\n",
    "        d['wavelength'] = self.albedo.iloc[:, 0]\n",
    "        d['response'] = self.albedo.iloc[:, 1]\n",
    "        return d\n",
    "    \n",
    "    def resp_ipol(self, target_waves):\n",
    "        return interpolate(self.rsr, target_waves )\n",
    "\n",
    "    @property\n",
    "    def wave1(self):\n",
    "        return self.albedo.iloc[0, 0] * u.nm\n",
    "    \n",
    "    @property\n",
    "    def wave2(self):\n",
    "        return self.albedo.iloc[-1, 0] * u.nm"
   ]
  },
  {
   "cell_type": "markdown",
   "metadata": {},
   "source": [
    "# Requirements\n",
    "1.       SNR 100 is a good planning value for the camera.\n",
    "2.       Filter wavelengths. Dayside: 200, 285, 365, 550, 935 (TBR); Nightside: 1.02, 1.72, 2.26, 2.32\n",
    "3.       Filter widths are not so critical, use VMC or Akatsuki as baseline.\n",
    "4.       Spatial resolution of 10 km at the cloud tops is OK.\n",
    "5.       Observing scenario. Dayside global imaging and spectroscopy: Every 30 minutes for 2 hours, wait 4 hours, repeat this pattern twice; Evening, morning, nightside: every 4 hours. High cadence campaign: Short bursts of images every 5 minutes on dayside, for 1 h. Downlink once/orbit on nightside of Venus, 8 hours.\n",
    "6.       Retrograde orbit is better (this is the same direction Venus rotates and the clouds super-rotate). Don’t aim for ‘cloud-top synchronization,’ the cloud speed varies with time, altitude and latitude. Orbital period 3-5 days is acceptable. 40 degree orbit inclination is OK, gives coverage of equatorial and mid-latitudes, with some view of the polar regions. LWE likes 3day period.\n",
    "7.       Orbit eccentricity < 0.5.\n",
    "8.       The camera capabilities can look for hot spots on the surface as volcanic evidence, as VMC reported. No additional requirements. The spectrometers will look for sudden increases in H2O and SO2 etc.\n"
   ]
  },
  {
   "cell_type": "markdown",
   "metadata": {
    "ExecuteTime": {
     "end_time": "2018-03-15T19:34:31.907803Z",
     "start_time": "2018-03-15T19:34:31.856583Z"
    }
   },
   "source": [
    "# Solar spectrum"
   ]
  },
  {
   "cell_type": "code",
   "execution_count": 7,
   "metadata": {
    "ExecuteTime": {
     "end_time": "2018-04-17T09:33:25.086124Z",
     "start_time": "2018-04-17T09:33:25.044001Z"
    }
   },
   "outputs": [],
   "source": [
    "from pyspectral.solar import (SolarIrradianceSpectrum, \n",
    "                              TOTAL_IRRADIANCE_SPECTRUM_2000ASTM,\n",
    "                             )"
   ]
  },
  {
   "cell_type": "code",
   "execution_count": 8,
   "metadata": {
    "ExecuteTime": {
     "end_time": "2018-04-17T19:11:38.907762Z",
     "start_time": "2018-04-17T19:11:38.854391Z"
    }
   },
   "outputs": [],
   "source": [
    "dic = {\n",
    "    'A_t': 5e-3 *u.m*u.m,\n",
    "    'A_p': 1.69e-10 *u.m*u.m,\n",
    "    'f' : 1.3 * u.m,\n",
    "    'T_M1':0.92,\n",
    "    'T_M2':0.92,\n",
    "    'T_s': 0.94,\n",
    "}\n",
    "\n",
    "\n",
    "class Radiometry:\n",
    "    E_w_unit_in = u.Watt/u.m/u.m/u.micron\n",
    "    E_w_unit_out = u.Watt/u.m/u.m/u.nm\n",
    "    E_ph_unit = 1/(u.s*u.m*u.m*u.nm)\n",
    "    plot_ctrl = dict(lw=0.75)\n",
    "    rootpath = Path(\"/Users/klay6683/Documents/proposals/2018/MAPSE/\")\n",
    "    def __init__(self, albedo, wave1=200*u.nm, wave2=1200*u.nm, dlambda=1*u.nm,\n",
    "                 i=75*u.deg, d=1.5):\n",
    "        self.albedo = albedo\n",
    "        self.wave1 = wave1\n",
    "        self.wave2 = wave2\n",
    "        self.dlambda = dlambda\n",
    "        self.i = i  # incidence angle\n",
    "        self.d = d  # Mars distance in AU (scaling the solar flux)\n",
    "        sol = SolarIrradianceSpectrum(TOTAL_IRRADIANCE_SPECTRUM_2000ASTM)\n",
    "        sol.interpolate(dlambda=dlambda.to(u.micron).value, \n",
    "                        ival_wavelength=(wave1.to(u.micron).value,\n",
    "                                         wave2.to(u.micron).value))\n",
    "        self.waves = (sol.ipol_wavelength*u.micron).to(u.nm)\n",
    "        self.E_w = (sol.ipol_irradiance*self.E_w_unit_in).to(self.E_w_unit_out)\n",
    "        \n",
    "        self.read_QE()\n",
    "        for k,v in dic.items():\n",
    "            setattr(self, k, v)\n",
    "                \n",
    "    def read_QE(self):\n",
    "        df = pd.read_csv(self.rootpath / 'midband_coated_QE.csv')\n",
    "        df = df.sort_values(by='Wavelength[nm]')\n",
    "        pre_data = pd.DataFrame([[225, 0.0]], columns=df.columns)\n",
    "        post_data = pd.DataFrame([[1100, 0.0]], columns=df.columns)\n",
    "        self.QE = pd.concat([pre_data, df, post_data])\n",
    "        \n",
    "    @property\n",
    "    def QE_rsr(self):\n",
    "        d = {}\n",
    "        d['wavelength'] = self.QE.iloc[:, 0]\n",
    "        d['response'] = self.QE.iloc[:, 1]/100.0\n",
    "        return d \n",
    "    \n",
    "    @property\n",
    "    def rsr(self):\n",
    "        return self.albedo.rsr\n",
    "    \n",
    "    def plot_E_w(self, ax=None):\n",
    "        xlim = [self.wave1.value, self.wave2.value]\n",
    "        \n",
    "        if ax is None:\n",
    "            _, ax = plt.subplots(figsize=(8,4))\n",
    "\n",
    "        ax.plot(self.waves, self.E_w, **self.plot_ctrl)\n",
    "        ax.set_xlim(xlim)\n",
    "        ax.set_ylim(0, 2.5)\n",
    "        ax.grid(True)\n",
    "        ax.set_xlabel(f\"Wavelength [{self.waves.unit}]\")\n",
    "        ax.set_ylabel(f\"Spectral irradiance [{self.E_w.unit}]\")\n",
    "        ax.set_title(\"E490 Spectral irradiance ($E_w$)\")\n",
    "        \n",
    "    @property\n",
    "    def ph_per_energy(self):\n",
    "        return self.waves/(h*c)\n",
    "    \n",
    "    @property\n",
    "    def E_ph(self):\n",
    "        return (self.E_w * self.ph_per_energy).to(self.E_ph_unit)\n",
    "    \n",
    "    def plot_E_ph(self, ax=None):\n",
    "        xlim = [self.wave1.value, self.wave2.value]\n",
    "        \n",
    "        if ax is None:\n",
    "            _, ax = plt.subplots(figsize=(8,4))\n",
    "\n",
    "        ax.plot(self.waves, self.E_ph, **self.plot_ctrl)\n",
    "        ax.set_xlim(xlim)\n",
    "        ax.set_ylim(ymin=0, ymax=6e18)\n",
    "        ax.grid(True)\n",
    "        ax.set_xlabel(f\"Wavelength [{self.waves.unit}]\")\n",
    "        ax.set_ylabel(f\"Spectral irradiance [{self.E_ph.unit}]\")\n",
    "        ax.set_title(\"E490 Spectral irradiance ($E_{ph}$)\")\n",
    "              \n",
    "    @property\n",
    "    def resp_ipol(self):\n",
    "        return self.albedo.resp_ipol(self.waves.value)\n",
    "    \n",
    "    @property\n",
    "    def QE_ipol(self):\n",
    "        ius = InterpolatedUnivariateSpline(self.QE_rsr['wavelength'],\n",
    "                                           self.QE_rsr['response'],\n",
    "                                           k=1)\n",
    "        return ius(self.waves.value)\n",
    "        \n",
    "    @property\n",
    "    def L_surf(self):\n",
    "        term1 = self.E_ph/self.d**2\n",
    "        term2 = math.cos(self.i.to(u.rad).value) / math.pi\n",
    "        term3 = self.resp_ipol\n",
    "        return term1*term2*term3\n",
    "    \n",
    "    @property\n",
    "    def CR(self):\n",
    "        term1 = self.L_surf * self.A_t * self.A_p\n",
    "        term2 = self.T_M1 * self.T_M2 * self.T_s * self.QE_ipol\n",
    "        return term1*term2/(self.f**2)\n",
    "    \n",
    "    @property\n",
    "    def signal_rate(self):\n",
    "        return self.CR.sum()\n",
    "    \n",
    "    def SNR(self, exp=0.01):\n",
    "        return math.sqrt(self.signal_rate.value * exp)"
   ]
  },
  {
   "cell_type": "code",
   "execution_count": 9,
   "metadata": {},
   "outputs": [],
   "source": [
    "alb = Albedo(\"/Users/klay6683/Documents/VENUS/VDO/low_mid_lat_albedo.csv\")"
   ]
  },
  {
   "cell_type": "code",
   "execution_count": 10,
   "metadata": {
    "ExecuteTime": {
     "end_time": "2018-04-17T19:11:40.005986Z",
     "start_time": "2018-04-17T19:11:39.743699Z"
    }
   },
   "outputs": [],
   "source": [
    "radio = Radiometry(albedo=alb, wave1=alb.wave1, wave2=alb.wave2,\n",
    "                   d=0.723)"
   ]
  },
  {
   "cell_type": "code",
   "execution_count": 11,
   "metadata": {
    "ExecuteTime": {
     "end_time": "2018-04-17T19:11:53.665948Z",
     "start_time": "2018-04-17T19:11:53.623719Z"
    }
   },
   "outputs": [
    {
     "data": {
      "text/plain": [
       "261.2363183862308"
      ]
     },
     "execution_count": 11,
     "metadata": {},
     "output_type": "execute_result"
    }
   ],
   "source": [
    "radio.SNR(0.0015)"
   ]
  },
  {
   "cell_type": "code",
   "execution_count": 12,
   "metadata": {
    "ExecuteTime": {
     "end_time": "2018-04-17T16:39:08.530631Z",
     "start_time": "2018-04-17T16:39:08.448672Z"
    }
   },
   "outputs": [
    {
     "data": {
      "application/vnd.jupyter.widget-view+json": {
       "model_id": "",
       "version_major": 2,
       "version_minor": 0
      },
      "text/plain": [
       "FigureCanvasNbAgg()"
      ]
     },
     "metadata": {},
     "output_type": "display_data"
    }
   ],
   "source": [
    "plt.figure()\n",
    "plt.plot(radio.waves, radio.CR)\n",
    "plt.grid()"
   ]
  },
  {
   "cell_type": "code",
   "execution_count": 13,
   "metadata": {
    "ExecuteTime": {
     "end_time": "2018-04-17T13:29:47.576901Z",
     "start_time": "2018-04-17T13:29:47.437117Z"
    }
   },
   "outputs": [
    {
     "data": {
      "application/vnd.jupyter.widget-view+json": {
       "model_id": "",
       "version_major": 2,
       "version_minor": 0
      },
      "text/plain": [
       "FigureCanvasNbAgg()"
      ]
     },
     "metadata": {},
     "output_type": "display_data"
    }
   ],
   "source": [
    "fig, ax = plt.subplots(ncols=2, figsize=(8,3))\n",
    "radio.plot_E_w(ax[0])\n",
    "radio.plot_E_ph(ax[1])"
   ]
  },
  {
   "cell_type": "code",
   "execution_count": 14,
   "metadata": {
    "ExecuteTime": {
     "end_time": "2018-03-16T07:29:00.068073Z",
     "start_time": "2018-03-16T07:28:59.998719Z"
    }
   },
   "outputs": [],
   "source": [
    "plt.close('all')"
   ]
  },
  {
   "cell_type": "code",
   "execution_count": 15,
   "metadata": {
    "ExecuteTime": {
     "end_time": "2018-04-17T16:07:00.169141Z",
     "start_time": "2018-04-17T16:06:58.356254Z"
    },
    "scrolled": false
   },
   "outputs": [
    {
     "data": {
      "application/vnd.jupyter.widget-view+json": {
       "model_id": "befa91818c2c4e818d2713f1b02fd25b",
       "version_major": 2,
       "version_minor": 0
      },
      "text/plain": [
       "FigureCanvasNbAgg()"
      ]
     },
     "metadata": {},
     "output_type": "display_data"
    },
    {
     "data": {
      "text/plain": [
       "[<matplotlib.lines.Line2D at 0x126f4a4a8>]"
      ]
     },
     "execution_count": 15,
     "metadata": {},
     "output_type": "execute_result"
    }
   ],
   "source": [
    "plt.figure()\n",
    "plt.plot(radio.rsr['wavelength'],\n",
    "         radio.rsr['response'])"
   ]
  },
  {
   "cell_type": "code",
   "execution_count": 16,
   "metadata": {
    "ExecuteTime": {
     "end_time": "2018-04-17T20:31:19.835335Z",
     "start_time": "2018-04-17T20:31:18.630006Z"
    }
   },
   "outputs": [],
   "source": [
    "d = 80 * u.mm"
   ]
  },
  {
   "cell_type": "code",
   "execution_count": 17,
   "metadata": {
    "ExecuteTime": {
     "end_time": "2018-04-17T20:31:44.558458Z",
     "start_time": "2018-04-17T20:31:44.512865Z"
    }
   },
   "outputs": [],
   "source": [
    "A = math.pi * d**2/4"
   ]
  },
  {
   "cell_type": "code",
   "execution_count": 18,
   "metadata": {
    "ExecuteTime": {
     "end_time": "2018-04-17T20:31:57.994306Z",
     "start_time": "2018-04-17T20:31:57.954084Z"
    }
   },
   "outputs": [
    {
     "data": {
      "text/latex": [
       "$0.0050265482 \\; \\mathrm{m^{2}}$"
      ],
      "text/plain": [
       "<Quantity 0.00502655 m2>"
      ]
     },
     "execution_count": 18,
     "metadata": {},
     "output_type": "execute_result"
    }
   ],
   "source": [
    "A.to(u.m*u.m)"
   ]
  },
  {
   "cell_type": "code",
   "execution_count": 19,
   "metadata": {
    "ExecuteTime": {
     "end_time": "2018-04-17T16:11:27.792456Z",
     "start_time": "2018-04-17T16:11:27.713053Z"
    },
    "scrolled": false
   },
   "outputs": [
    {
     "data": {
      "application/vnd.jupyter.widget-view+json": {
       "model_id": "7765f515b5b04a49be0f9f49580a8090",
       "version_major": 2,
       "version_minor": 0
      },
      "text/plain": [
       "FigureCanvasNbAgg()"
      ]
     },
     "metadata": {},
     "output_type": "display_data"
    },
    {
     "data": {
      "text/plain": [
       "(0, 1)"
      ]
     },
     "execution_count": 19,
     "metadata": {},
     "output_type": "execute_result"
    }
   ],
   "source": [
    "plt.figure()\n",
    "plt.plot(radio.QE_rsr['wavelength'],\n",
    "         radio.QE_rsr['response'])\n",
    "plt.ylim(0, 1)"
   ]
  },
  {
   "cell_type": "code",
   "execution_count": 20,
   "metadata": {
    "ExecuteTime": {
     "end_time": "2018-04-17T16:12:20.499962Z",
     "start_time": "2018-04-17T16:12:20.403337Z"
    }
   },
   "outputs": [
    {
     "data": {
      "application/vnd.jupyter.widget-view+json": {
       "model_id": "dfe07793ecbf43b5824b0e86ebbf158a",
       "version_major": 2,
       "version_minor": 0
      },
      "text/plain": [
       "FigureCanvasNbAgg()"
      ]
     },
     "metadata": {},
     "output_type": "display_data"
    },
    {
     "data": {
      "text/plain": [
       "[<matplotlib.lines.Line2D at 0x12482f4e0>]"
      ]
     },
     "execution_count": 20,
     "metadata": {},
     "output_type": "execute_result"
    }
   ],
   "source": [
    "plt.figure()\n",
    "plt.plot(radio.QE_rsr['wavelength'],\n",
    "         radio.QE_rsr['response'])\n",
    "plt.plot(radio.waves,\n",
    "         radio.QE_ipol, '--', color='red')"
   ]
  },
  {
   "cell_type": "code",
   "execution_count": 21,
   "metadata": {
    "ExecuteTime": {
     "end_time": "2018-04-17T16:14:43.365958Z",
     "start_time": "2018-04-17T16:14:43.273187Z"
    }
   },
   "outputs": [
    {
     "data": {
      "application/vnd.jupyter.widget-view+json": {
       "model_id": "e41c14fd2aa0442d9d454c8b9dbb61fa",
       "version_major": 2,
       "version_minor": 0
      },
      "text/plain": [
       "FigureCanvasNbAgg()"
      ]
     },
     "metadata": {},
     "output_type": "display_data"
    },
    {
     "data": {
      "text/plain": [
       "[<matplotlib.lines.Line2D at 0x1278f87f0>]"
      ]
     },
     "execution_count": 21,
     "metadata": {},
     "output_type": "execute_result"
    }
   ],
   "source": [
    "plt.figure()\n",
    "plt.plot(radio.rsr['wavelength'],\n",
    "         radio.rsr['response'])\n",
    "plt.plot(radio.waves,\n",
    "         radio.resp_ipol, '--', color='red')"
   ]
  },
  {
   "cell_type": "code",
   "execution_count": 22,
   "metadata": {
    "ExecuteTime": {
     "end_time": "2018-04-17T20:50:28.176767Z",
     "start_time": "2018-04-17T20:50:28.135450Z"
    }
   },
   "outputs": [],
   "source": [
    "from pytelescope.ccd import CCD"
   ]
  },
  {
   "cell_type": "code",
   "execution_count": 7,
   "metadata": {
    "ExecuteTime": {
     "end_time": "2018-04-17T22:25:09.633194Z",
     "start_time": "2018-04-17T22:25:09.582446Z"
    }
   },
   "outputs": [],
   "source": [
    "class Camera(object):\n",
    "    def __init__(self, compression=5, fov=60,\n",
    "                 n_bandpasses=4, **kwargs):\n",
    "\n",
    "        self.compression = compression\n",
    "        self.fov = fov * u.deg\n",
    "        self.n_bandpasses = n_bandpasses\n",
    "        self.ccd = CCD(**kwargs)\n",
    "\n",
    "    def __getattr__(self, attr):\n",
    "        return getattr(self.ccd, attr)\n",
    "\n",
    "    @property\n",
    "    def ifov(self):\n",
    "        ifovx = (self.fov / self.ccd.x).to(u.rad)\n",
    "        return ifovx\n",
    "#         ifovy = (self.fov / self.ccd.y).to(u.rad)\n",
    "#         return np.array([ifovx, ifovy])\n",
    "\n",
    "    def calc_swath_from_alt(self, h):\n",
    "        return 2*h*np.tan(self.fov.to(u.rad)/2)\n",
    "    \n",
    "    def calc_pixel_size_from_alt(self, h):\n",
    "        return 2*h*np.tan(self.ifov/2)\n",
    "        \n",
    "    @property\n",
    "    def ifov_mrad(self):\n",
    "        return self.ifov.to(u.mrad)\n",
    "\n",
    "    @property\n",
    "    def img_compressed_size(self):\n",
    "        return self.ccd.total_mbits / self.compression\n",
    "\n",
    "    @property\n",
    "    def img_set_size(self):\n",
    "        return self.n_bandpasses * self.img_compressed_size\n",
    "\n",
    "    def __repr__(self):\n",
    "        s = self.ccd.__str__()\n",
    "        s += \"Compression: {}\\n\".format(self.compression)\n",
    "        s += \"Compressed per image: {} Mbits\\n\".format(\n",
    "            self.img_compressed_size)\n",
    "        s += \"Bands: {}\\n\".format(self.n_bandpasses)\n",
    "        s += \"Set size compressed: {} Mbits\\n\".format(self.img_set_size)\n",
    "        s += f\"IFOV [mrad]: {self.ifov.to(u.mrad):g}\\n\"\n",
    "        return s\n",
    "\n",
    "\n",
    "class SolarIrradiance:\n",
    "    def __init__(self, wave1=200 * u.nm, wave2=1200 * u.nm, dlambda=1 * u.nm):\n",
    "        self.wave1 = wave1\n",
    "        self.wave2 = wave2\n",
    "        self.dlambda = dlambda\n",
    "        sol = SolarIrradianceSpectrum(TOTAL_IRRADIANCE_SPECTRUM_2000ASTM)\n",
    "        sol.interpolate(dlambda=dlambda.to(u.micron).value,\n",
    "                        ival_wavelength=(wave1.to(u.micron).value,\n",
    "                                         wave2.to(u.micron).value))\n",
    "        self.waves = sol.ipol_wavelength * u.micron  # b/c pyspectral works in micron"
   ]
  },
  {
   "cell_type": "code",
   "execution_count": 117,
   "metadata": {
    "ExecuteTime": {
     "end_time": "2018-04-17T22:25:10.041658Z",
     "start_time": "2018-04-17T22:25:10.002803Z"
    }
   },
   "outputs": [],
   "source": [
    "cam = Camera(fov=8.5, n_bandpasses=5)"
   ]
  },
  {
   "cell_type": "code",
   "execution_count": 109,
   "metadata": {
    "ExecuteTime": {
     "end_time": "2018-04-17T22:25:10.397365Z",
     "start_time": "2018-04-17T22:25:10.352869Z"
    }
   },
   "outputs": [
    {
     "data": {
      "text/plain": [
       "2048 x 2048 pixels per CCD\n",
       "N pixels: 4194304\n",
       "Dynamic range: 15 bits\n",
       "Total Mbits per CCD: 60.0\n",
       "Compression: 5\n",
       "Compressed per image: 12.0 Mbits\n",
       "Bands: 5\n",
       "Set size compressed: 60.0 Mbits\n",
       "IFOV [mrad]: 0.0681769 mrad"
      ]
     },
     "execution_count": 109,
     "metadata": {},
     "output_type": "execute_result"
    }
   ],
   "source": [
    "cam"
   ]
  },
  {
   "cell_type": "code",
   "execution_count": 104,
   "metadata": {},
   "outputs": [],
   "source": [
    "altitudes = np.arange(40000,100001, 10000)"
   ]
  },
  {
   "cell_type": "code",
   "execution_count": 105,
   "metadata": {},
   "outputs": [],
   "source": [
    "df = pd.DataFrame({'altitudes': altitudes * u.km})"
   ]
  },
  {
   "cell_type": "code",
   "execution_count": 118,
   "metadata": {
    "ExecuteTime": {
     "end_time": "2018-04-17T22:10:42.834051Z",
     "start_time": "2018-04-17T22:10:42.795322Z"
    }
   },
   "outputs": [
    {
     "data": {
      "text/latex": [
       "$12335.931 \\; \\mathrm{km}$"
      ],
      "text/plain": [
       "<Quantity 12335.93089903 km>"
      ]
     },
     "execution_count": 118,
     "metadata": {},
     "output_type": "execute_result"
    }
   ],
   "source": [
    "cam.calc_swath_from_alt(83000*u.km)"
   ]
  },
  {
   "cell_type": "code",
   "execution_count": 119,
   "metadata": {},
   "outputs": [
    {
     "data": {
      "text/latex": [
       "$6.0123525 \\; \\mathrm{km}$"
      ],
      "text/plain": [
       "<Quantity 6.01235248 km>"
      ]
     },
     "execution_count": 119,
     "metadata": {},
     "output_type": "execute_result"
    }
   ],
   "source": [
    "cam.calc_pixel_size_from_alt(83000*u.km)"
   ]
  },
  {
   "cell_type": "code",
   "execution_count": 82,
   "metadata": {},
   "outputs": [],
   "source": [
    "df['swath_widths_10deg'] = [i.value for i in df.altitudes.map(cam.calc_swath_from_alt)]"
   ]
  },
  {
   "cell_type": "code",
   "execution_count": 83,
   "metadata": {},
   "outputs": [
    {
     "data": {
      "text/html": [
       "<div>\n",
       "<style scoped>\n",
       "    .dataframe tbody tr th:only-of-type {\n",
       "        vertical-align: middle;\n",
       "    }\n",
       "\n",
       "    .dataframe tbody tr th {\n",
       "        vertical-align: top;\n",
       "    }\n",
       "\n",
       "    .dataframe thead th {\n",
       "        text-align: right;\n",
       "    }\n",
       "</style>\n",
       "<table border=\"1\" class=\"dataframe\">\n",
       "  <thead>\n",
       "    <tr style=\"text-align: right;\">\n",
       "      <th></th>\n",
       "      <th>altitudes</th>\n",
       "      <th>swath_widths_8deg</th>\n",
       "      <th>swath_widths_10deg</th>\n",
       "    </tr>\n",
       "  </thead>\n",
       "  <tbody>\n",
       "    <tr>\n",
       "      <th>0</th>\n",
       "      <td>40000.0</td>\n",
       "      <td>5594.144955</td>\n",
       "      <td>6999.093082</td>\n",
       "    </tr>\n",
       "    <tr>\n",
       "      <th>1</th>\n",
       "      <td>50000.0</td>\n",
       "      <td>6992.681194</td>\n",
       "      <td>8748.866353</td>\n",
       "    </tr>\n",
       "    <tr>\n",
       "      <th>2</th>\n",
       "      <td>60000.0</td>\n",
       "      <td>8391.217433</td>\n",
       "      <td>10498.639623</td>\n",
       "    </tr>\n",
       "    <tr>\n",
       "      <th>3</th>\n",
       "      <td>70000.0</td>\n",
       "      <td>9789.753672</td>\n",
       "      <td>12248.412894</td>\n",
       "    </tr>\n",
       "    <tr>\n",
       "      <th>4</th>\n",
       "      <td>80000.0</td>\n",
       "      <td>11188.289911</td>\n",
       "      <td>13998.186164</td>\n",
       "    </tr>\n",
       "    <tr>\n",
       "      <th>5</th>\n",
       "      <td>90000.0</td>\n",
       "      <td>12586.826150</td>\n",
       "      <td>15747.959435</td>\n",
       "    </tr>\n",
       "    <tr>\n",
       "      <th>6</th>\n",
       "      <td>100000.0</td>\n",
       "      <td>13985.362389</td>\n",
       "      <td>17497.732705</td>\n",
       "    </tr>\n",
       "  </tbody>\n",
       "</table>\n",
       "</div>"
      ],
      "text/plain": [
       "   altitudes  swath_widths_8deg  swath_widths_10deg\n",
       "0    40000.0        5594.144955         6999.093082\n",
       "1    50000.0        6992.681194         8748.866353\n",
       "2    60000.0        8391.217433        10498.639623\n",
       "3    70000.0        9789.753672        12248.412894\n",
       "4    80000.0       11188.289911        13998.186164\n",
       "5    90000.0       12586.826150        15747.959435\n",
       "6   100000.0       13985.362389        17497.732705"
      ]
     },
     "execution_count": 83,
     "metadata": {},
     "output_type": "execute_result"
    }
   ],
   "source": [
    "df"
   ]
  },
  {
   "cell_type": "code",
   "execution_count": 86,
   "metadata": {},
   "outputs": [
    {
     "data": {
      "application/vnd.jupyter.widget-view+json": {
       "model_id": "0c6f679d063544e28e35a9c6e5552489",
       "version_major": 2,
       "version_minor": 0
      },
      "text/plain": [
       "FigureCanvasNbAgg()"
      ]
     },
     "metadata": {},
     "output_type": "display_data"
    },
    {
     "data": {
      "application/vnd.jupyter.widget-view+json": {
       "model_id": "2a6a32c60b0240ab84b167ee96a267bf",
       "version_major": 2,
       "version_minor": 0
      },
      "text/plain": [
       "FigureCanvasNbAgg()"
      ]
     },
     "metadata": {},
     "output_type": "display_data"
    }
   ],
   "source": [
    "plt.figure()\n",
    "df.set_index('altitudes').plot()\n",
    "plt.ylabel('Swath widths [km]')\n",
    "plt.title(\"Swath widths with 2 different camera FOVs\")\n",
    "plt.savefig(\"swath_widths.pdf\")"
   ]
  },
  {
   "cell_type": "code",
   "execution_count": 92,
   "metadata": {},
   "outputs": [],
   "source": [
    "df['pixel_ground_size_8deg'] = [i.value for i in df.altitudes.map(cam.calc_pixel_size_from_alt)]"
   ]
  },
  {
   "cell_type": "code",
   "execution_count": 71,
   "metadata": {},
   "outputs": [],
   "source": [
    "%matplotlib ipympl"
   ]
  },
  {
   "cell_type": "code",
   "execution_count": null,
   "metadata": {},
   "outputs": [],
   "source": [
    "df"
   ]
  },
  {
   "cell_type": "code",
   "execution_count": 94,
   "metadata": {},
   "outputs": [
    {
     "data": {
      "application/vnd.jupyter.widget-view+json": {
       "model_id": "92055dc4907f482abf7590d2626d58a3",
       "version_major": 2,
       "version_minor": 0
      },
      "text/plain": [
       "FigureCanvasNbAgg()"
      ]
     },
     "metadata": {},
     "output_type": "display_data"
    },
    {
     "data": {
      "application/vnd.jupyter.widget-view+json": {
       "model_id": "4087aaf7f0424895896d5b1b50909c13",
       "version_major": 2,
       "version_minor": 0
      },
      "text/plain": [
       "FigureCanvasNbAgg()"
      ]
     },
     "metadata": {},
     "output_type": "display_data"
    }
   ],
   "source": [
    "plt.figure()\n",
    "df.set_index('altitudes').plot()\n",
    "plt.ylabel('Pixel ground sizes [km]')\n",
    "plt.title(\"Pixel ground sizes with 2 different camera FOVs\")\n",
    "plt.savefig(\"pixel_ground_sizes.pdf\")"
   ]
  },
  {
   "cell_type": "code",
   "execution_count": 72,
   "metadata": {},
   "outputs": [],
   "source": [
    "df.set_index('altitudes', inplace=True)"
   ]
  },
  {
   "cell_type": "code",
   "execution_count": 73,
   "metadata": {},
   "outputs": [
    {
     "data": {
      "application/vnd.jupyter.widget-view+json": {
       "model_id": "6c574556bc9243cf9b0ced62d5897ba6",
       "version_major": 2,
       "version_minor": 0
      },
      "text/plain": [
       "FigureCanvasNbAgg()"
      ]
     },
     "metadata": {},
     "output_type": "display_data"
    }
   ],
   "source": [
    "plt.figure()\n",
    "df.swath_widths.plot(label='FOV=8 deg')\n",
    "plt.xlabel('Altitudes [km]')\n",
    "plt.ylabel('Swath Widths [km]')\n",
    "plt.legend()\n",
    "plt.savefig('swath_widths_8_degree.png', dpi=200)"
   ]
  },
  {
   "cell_type": "code",
   "execution_count": 74,
   "metadata": {},
   "outputs": [
    {
     "data": {
      "application/vnd.jupyter.widget-view+json": {
       "model_id": "9a89bf03dd034d278063101cad0e6891",
       "version_major": 2,
       "version_minor": 0
      },
      "text/plain": [
       "FigureCanvasNbAgg()"
      ]
     },
     "metadata": {},
     "output_type": "display_data"
    }
   ],
   "source": [
    "plt.figure()\n",
    "df.pixel_ground_size.plot(label='FOV=8 deg')\n",
    "plt.xlabel('Altitudes [km]')\n",
    "plt.ylabel('Pixel Ground Sizes [km]')\n",
    "plt.legend()\n",
    "plt.savefig('pixel_sizes_8_degree.png')"
   ]
  },
  {
   "cell_type": "code",
   "execution_count": 55,
   "metadata": {},
   "outputs": [
    {
     "data": {
      "text/html": [
       "<div>\n",
       "<style scoped>\n",
       "    .dataframe tbody tr th:only-of-type {\n",
       "        vertical-align: middle;\n",
       "    }\n",
       "\n",
       "    .dataframe tbody tr th {\n",
       "        vertical-align: top;\n",
       "    }\n",
       "\n",
       "    .dataframe thead th {\n",
       "        text-align: right;\n",
       "    }\n",
       "</style>\n",
       "<table border=\"1\" class=\"dataframe\">\n",
       "  <thead>\n",
       "    <tr style=\"text-align: right;\">\n",
       "      <th></th>\n",
       "      <th>swath_widths</th>\n",
       "      <th>pixel_ground_size</th>\n",
       "    </tr>\n",
       "    <tr>\n",
       "      <th>altitudes</th>\n",
       "      <th></th>\n",
       "      <th></th>\n",
       "    </tr>\n",
       "  </thead>\n",
       "  <tbody>\n",
       "    <tr>\n",
       "      <th>40000.0</th>\n",
       "      <td>6999.093082</td>\n",
       "      <td>3.408846</td>\n",
       "    </tr>\n",
       "    <tr>\n",
       "      <th>50000.0</th>\n",
       "      <td>8748.866353</td>\n",
       "      <td>4.261058</td>\n",
       "    </tr>\n",
       "    <tr>\n",
       "      <th>60000.0</th>\n",
       "      <td>10498.639623</td>\n",
       "      <td>5.113269</td>\n",
       "    </tr>\n",
       "    <tr>\n",
       "      <th>70000.0</th>\n",
       "      <td>12248.412894</td>\n",
       "      <td>5.965481</td>\n",
       "    </tr>\n",
       "    <tr>\n",
       "      <th>80000.0</th>\n",
       "      <td>13998.186164</td>\n",
       "      <td>6.817692</td>\n",
       "    </tr>\n",
       "    <tr>\n",
       "      <th>90000.0</th>\n",
       "      <td>15747.959435</td>\n",
       "      <td>7.669904</td>\n",
       "    </tr>\n",
       "    <tr>\n",
       "      <th>100000.0</th>\n",
       "      <td>17497.732705</td>\n",
       "      <td>8.522115</td>\n",
       "    </tr>\n",
       "  </tbody>\n",
       "</table>\n",
       "</div>"
      ],
      "text/plain": [
       "           swath_widths  pixel_ground_size\n",
       "altitudes                                 \n",
       "40000.0     6999.093082           3.408846\n",
       "50000.0     8748.866353           4.261058\n",
       "60000.0    10498.639623           5.113269\n",
       "70000.0    12248.412894           5.965481\n",
       "80000.0    13998.186164           6.817692\n",
       "90000.0    15747.959435           7.669904\n",
       "100000.0   17497.732705           8.522115"
      ]
     },
     "execution_count": 55,
     "metadata": {},
     "output_type": "execute_result"
    }
   ],
   "source": [
    "df"
   ]
  },
  {
   "cell_type": "code",
   "execution_count": 11,
   "metadata": {
    "ExecuteTime": {
     "end_time": "2018-04-17T22:10:44.379527Z",
     "start_time": "2018-04-17T22:10:44.326244Z"
    }
   },
   "outputs": [
    {
     "data": {
      "text/latex": [
       "$8.5221155 \\; \\mathrm{km}$"
      ],
      "text/plain": [
       "<Quantity 8.52211549 km>"
      ]
     },
     "execution_count": 11,
     "metadata": {},
     "output_type": "execute_result"
    }
   ],
   "source": [
    "cam.calc_pixel_size_from_alt(100000*u.km)"
   ]
  },
  {
   "cell_type": "code",
   "execution_count": 138,
   "metadata": {
    "ExecuteTime": {
     "end_time": "2018-04-17T22:10:49.651248Z",
     "start_time": "2018-04-17T22:10:49.610597Z"
    }
   },
   "outputs": [
    {
     "data": {
      "text/latex": [
       "$8.5221155 \\times 10^{-5} \\; \\mathrm{rad}$"
      ],
      "text/plain": [
       "<Quantity 8.52211549e-05 rad>"
      ]
     },
     "execution_count": 138,
     "metadata": {},
     "output_type": "execute_result"
    }
   ],
   "source": [
    "cam.ifov"
   ]
  },
  {
   "cell_type": "code",
   "execution_count": 175,
   "metadata": {
    "ExecuteTime": {
     "end_time": "2018-04-17T22:07:59.187823Z",
     "start_time": "2018-04-17T22:07:59.146471Z"
    }
   },
   "outputs": [
    {
     "data": {
      "text/latex": [
       "$0.059654808 \\; \\mathrm{mrad}$"
      ],
      "text/plain": [
       "<Quantity 0.05965481 mrad>"
      ]
     },
     "execution_count": 175,
     "metadata": {},
     "output_type": "execute_result"
    }
   ],
   "source": [
    "cam.ifov_mrad"
   ]
  },
  {
   "cell_type": "code",
   "execution_count": 176,
   "metadata": {
    "ExecuteTime": {
     "end_time": "2018-04-17T22:08:24.598754Z",
     "start_time": "2018-04-17T22:08:24.540999Z"
    }
   },
   "outputs": [
    {
     "data": {
      "text/latex": [
       "$59.654808 \\; \\mathrm{\\mu rad}$"
      ],
      "text/plain": [
       "<Quantity 59.65480842 urad>"
      ]
     },
     "execution_count": 176,
     "metadata": {},
     "output_type": "execute_result"
    }
   ],
   "source": [
    "cam.ifov.to(u.microradian)"
   ]
  },
  {
   "cell_type": "code",
   "execution_count": 206,
   "metadata": {
    "ExecuteTime": {
     "end_time": "2018-04-18T00:07:21.635576Z",
     "start_time": "2018-04-18T00:07:21.468684Z"
    }
   },
   "outputs": [
    {
     "name": "stdout",
     "output_type": "stream",
     "text": [
      "Assuming kilometers as unit for input parameter.\n"
     ]
    }
   ],
   "source": [
    "orb = orbiter.VenusOrbiter(100000)"
   ]
  },
  {
   "cell_type": "code",
   "execution_count": 207,
   "metadata": {
    "ExecuteTime": {
     "end_time": "2018-04-18T00:07:22.307562Z",
     "start_time": "2018-04-18T00:07:22.254781Z"
    }
   },
   "outputs": [
    {
     "data": {
      "text/latex": [
       "$99.874515 \\; \\mathrm{\\frac{m}{s}}$"
      ],
      "text/plain": [
       "<Quantity 99.87451523 m / s>"
      ]
     },
     "execution_count": 207,
     "metadata": {},
     "output_type": "execute_result"
    }
   ],
   "source": [
    "orb.v_surf"
   ]
  },
  {
   "cell_type": "code",
   "execution_count": 209,
   "metadata": {
    "ExecuteTime": {
     "end_time": "2018-04-18T00:07:39.992674Z",
     "start_time": "2018-04-18T00:07:39.955813Z"
    }
   },
   "outputs": [
    {
     "data": {
      "text/latex": [
       "$5992.4709 \\; \\mathrm{m}$"
      ],
      "text/plain": [
       "<Quantity 5992.4709136 m>"
      ]
     },
     "execution_count": 209,
     "metadata": {},
     "output_type": "execute_result"
    }
   ],
   "source": [
    "orb.ground_travel(1*u.min)"
   ]
  },
  {
   "cell_type": "code",
   "execution_count": 211,
   "metadata": {
    "ExecuteTime": {
     "end_time": "2018-04-18T00:08:10.274331Z",
     "start_time": "2018-04-18T00:08:10.237145Z"
    }
   },
   "outputs": [
    {
     "data": {
      "text/latex": [
       "$105.75654 \\; \\mathrm{h}$"
      ],
      "text/plain": [
       "<Quantity 105.75654403 h>"
      ]
     },
     "execution_count": 211,
     "metadata": {},
     "output_type": "execute_result"
    }
   ],
   "source": [
    "orb.T.to(u.hour)"
   ]
  },
  {
   "cell_type": "code",
   "execution_count": 212,
   "metadata": {
    "ExecuteTime": {
     "end_time": "2018-04-18T00:08:16.432704Z",
     "start_time": "2018-04-18T00:08:16.397599Z"
    }
   },
   "outputs": [
    {
     "data": {
      "text/plain": [
       "4.375"
      ]
     },
     "execution_count": 212,
     "metadata": {},
     "output_type": "execute_result"
    }
   ],
   "source": [
    "105/24"
   ]
  },
  {
   "cell_type": "code",
   "execution_count": 142,
   "metadata": {},
   "outputs": [],
   "source": [
    "df = pd.read_csv(\"/Users/klay6683/Documents/VENUS/VDO/low_mid_lat_albedo.csv\")"
   ]
  },
  {
   "cell_type": "code",
   "execution_count": 143,
   "metadata": {},
   "outputs": [],
   "source": [
    "df2 = pd.read_csv(\"/Users/klay6683/Documents/VENUS/VDO/polar_region_albedo.csv\")"
   ]
  },
  {
   "cell_type": "code",
   "execution_count": 144,
   "metadata": {},
   "outputs": [
    {
     "data": {
      "text/html": [
       "<div>\n",
       "<style scoped>\n",
       "    .dataframe tbody tr th:only-of-type {\n",
       "        vertical-align: middle;\n",
       "    }\n",
       "\n",
       "    .dataframe tbody tr th {\n",
       "        vertical-align: top;\n",
       "    }\n",
       "\n",
       "    .dataframe thead th {\n",
       "        text-align: right;\n",
       "    }\n",
       "</style>\n",
       "<table border=\"1\" class=\"dataframe\">\n",
       "  <thead>\n",
       "    <tr style=\"text-align: right;\">\n",
       "      <th></th>\n",
       "      <th>Wavelength[nm]</th>\n",
       "      <th>Albedo</th>\n",
       "    </tr>\n",
       "  </thead>\n",
       "  <tbody>\n",
       "    <tr>\n",
       "      <th>0</th>\n",
       "      <td>251.607941</td>\n",
       "      <td>0.517896</td>\n",
       "    </tr>\n",
       "    <tr>\n",
       "      <th>1</th>\n",
       "      <td>253.567887</td>\n",
       "      <td>0.509862</td>\n",
       "    </tr>\n",
       "    <tr>\n",
       "      <th>2</th>\n",
       "      <td>255.673600</td>\n",
       "      <td>0.501351</td>\n",
       "    </tr>\n",
       "    <tr>\n",
       "      <th>3</th>\n",
       "      <td>258.402993</td>\n",
       "      <td>0.490016</td>\n",
       "    </tr>\n",
       "    <tr>\n",
       "      <th>4</th>\n",
       "      <td>261.302973</td>\n",
       "      <td>0.478793</td>\n",
       "    </tr>\n",
       "  </tbody>\n",
       "</table>\n",
       "</div>"
      ],
      "text/plain": [
       "   Wavelength[nm]    Albedo\n",
       "0      251.607941  0.517896\n",
       "1      253.567887  0.509862\n",
       "2      255.673600  0.501351\n",
       "3      258.402993  0.490016\n",
       "4      261.302973  0.478793"
      ]
     },
     "execution_count": 144,
     "metadata": {},
     "output_type": "execute_result"
    }
   ],
   "source": [
    "df.head()"
   ]
  },
  {
   "cell_type": "code",
   "execution_count": 145,
   "metadata": {},
   "outputs": [],
   "source": [
    "df['polar'] = df2.Albedo"
   ]
  },
  {
   "cell_type": "code",
   "execution_count": 146,
   "metadata": {},
   "outputs": [
    {
     "data": {
      "text/html": [
       "<div>\n",
       "<style scoped>\n",
       "    .dataframe tbody tr th:only-of-type {\n",
       "        vertical-align: middle;\n",
       "    }\n",
       "\n",
       "    .dataframe tbody tr th {\n",
       "        vertical-align: top;\n",
       "    }\n",
       "\n",
       "    .dataframe thead th {\n",
       "        text-align: right;\n",
       "    }\n",
       "</style>\n",
       "<table border=\"1\" class=\"dataframe\">\n",
       "  <thead>\n",
       "    <tr style=\"text-align: right;\">\n",
       "      <th></th>\n",
       "      <th>Wavelength[nm]</th>\n",
       "      <th>Albedo</th>\n",
       "      <th>polar</th>\n",
       "    </tr>\n",
       "  </thead>\n",
       "  <tbody>\n",
       "    <tr>\n",
       "      <th>0</th>\n",
       "      <td>251.607941</td>\n",
       "      <td>0.517896</td>\n",
       "      <td>0.451713</td>\n",
       "    </tr>\n",
       "    <tr>\n",
       "      <th>1</th>\n",
       "      <td>253.567887</td>\n",
       "      <td>0.509862</td>\n",
       "      <td>0.461598</td>\n",
       "    </tr>\n",
       "    <tr>\n",
       "      <th>2</th>\n",
       "      <td>255.673600</td>\n",
       "      <td>0.501351</td>\n",
       "      <td>0.433146</td>\n",
       "    </tr>\n",
       "    <tr>\n",
       "      <th>3</th>\n",
       "      <td>258.402993</td>\n",
       "      <td>0.490016</td>\n",
       "      <td>0.424981</td>\n",
       "    </tr>\n",
       "    <tr>\n",
       "      <th>4</th>\n",
       "      <td>261.302973</td>\n",
       "      <td>0.478793</td>\n",
       "      <td>0.401719</td>\n",
       "    </tr>\n",
       "  </tbody>\n",
       "</table>\n",
       "</div>"
      ],
      "text/plain": [
       "   Wavelength[nm]    Albedo     polar\n",
       "0      251.607941  0.517896  0.451713\n",
       "1      253.567887  0.509862  0.461598\n",
       "2      255.673600  0.501351  0.433146\n",
       "3      258.402993  0.490016  0.424981\n",
       "4      261.302973  0.478793  0.401719"
      ]
     },
     "execution_count": 146,
     "metadata": {},
     "output_type": "execute_result"
    }
   ],
   "source": [
    "df.head()"
   ]
  },
  {
   "cell_type": "code",
   "execution_count": 147,
   "metadata": {},
   "outputs": [],
   "source": [
    "df.rename({'Albedo': 'Low-mid lats'}, axis=1, inplace=True)"
   ]
  },
  {
   "cell_type": "code",
   "execution_count": 148,
   "metadata": {},
   "outputs": [
    {
     "data": {
      "text/html": [
       "<div>\n",
       "<style scoped>\n",
       "    .dataframe tbody tr th:only-of-type {\n",
       "        vertical-align: middle;\n",
       "    }\n",
       "\n",
       "    .dataframe tbody tr th {\n",
       "        vertical-align: top;\n",
       "    }\n",
       "\n",
       "    .dataframe thead th {\n",
       "        text-align: right;\n",
       "    }\n",
       "</style>\n",
       "<table border=\"1\" class=\"dataframe\">\n",
       "  <thead>\n",
       "    <tr style=\"text-align: right;\">\n",
       "      <th></th>\n",
       "      <th>Wavelength[nm]</th>\n",
       "      <th>Low-mid lats</th>\n",
       "      <th>polar</th>\n",
       "    </tr>\n",
       "  </thead>\n",
       "  <tbody>\n",
       "    <tr>\n",
       "      <th>0</th>\n",
       "      <td>251.607941</td>\n",
       "      <td>0.517896</td>\n",
       "      <td>0.451713</td>\n",
       "    </tr>\n",
       "    <tr>\n",
       "      <th>1</th>\n",
       "      <td>253.567887</td>\n",
       "      <td>0.509862</td>\n",
       "      <td>0.461598</td>\n",
       "    </tr>\n",
       "    <tr>\n",
       "      <th>2</th>\n",
       "      <td>255.673600</td>\n",
       "      <td>0.501351</td>\n",
       "      <td>0.433146</td>\n",
       "    </tr>\n",
       "    <tr>\n",
       "      <th>3</th>\n",
       "      <td>258.402993</td>\n",
       "      <td>0.490016</td>\n",
       "      <td>0.424981</td>\n",
       "    </tr>\n",
       "    <tr>\n",
       "      <th>4</th>\n",
       "      <td>261.302973</td>\n",
       "      <td>0.478793</td>\n",
       "      <td>0.401719</td>\n",
       "    </tr>\n",
       "  </tbody>\n",
       "</table>\n",
       "</div>"
      ],
      "text/plain": [
       "   Wavelength[nm]  Low-mid lats     polar\n",
       "0      251.607941      0.517896  0.451713\n",
       "1      253.567887      0.509862  0.461598\n",
       "2      255.673600      0.501351  0.433146\n",
       "3      258.402993      0.490016  0.424981\n",
       "4      261.302973      0.478793  0.401719"
      ]
     },
     "execution_count": 148,
     "metadata": {},
     "output_type": "execute_result"
    }
   ],
   "source": [
    "df.head()"
   ]
  },
  {
   "cell_type": "code",
   "execution_count": 151,
   "metadata": {},
   "outputs": [
    {
     "data": {
      "application/vnd.jupyter.widget-view+json": {
       "model_id": "6a3b1837f4044794b2e844b0cabe938f",
       "version_major": 2,
       "version_minor": 0
      },
      "text/plain": [
       "FigureCanvasNbAgg()"
      ]
     },
     "metadata": {},
     "output_type": "display_data"
    }
   ],
   "source": [
    "df.set_index('Wavelength[nm]').plot(title='Albedos from Lee, Titov, et al., 2015')\n",
    "plt.savefig(\"albedos.pdf\")"
   ]
  },
  {
   "cell_type": "code",
   "execution_count": 96,
   "metadata": {},
   "outputs": [],
   "source": [
    "dr = 500 * u.kbit / u.s"
   ]
  },
  {
   "cell_type": "code",
   "execution_count": 97,
   "metadata": {},
   "outputs": [
    {
     "data": {
      "text/latex": [
       "$500 \\; \\mathrm{\\frac{kbit}{s}}$"
      ],
      "text/plain": [
       "<Quantity 500. kbit / s>"
      ]
     },
     "execution_count": 97,
     "metadata": {},
     "output_type": "execute_result"
    }
   ],
   "source": [
    "dr"
   ]
  },
  {
   "cell_type": "code",
   "execution_count": 101,
   "metadata": {},
   "outputs": [
    {
     "data": {
      "text/latex": [
       "$14.4 \\; \\mathrm{Gbit}$"
      ],
      "text/plain": [
       "<Quantity 14.4 Gbit>"
      ]
     },
     "execution_count": 101,
     "metadata": {},
     "output_type": "execute_result"
    }
   ],
   "source": [
    "(dr * 8 * u.h).to(u.Gbit)"
   ]
  },
  {
   "cell_type": "code",
   "execution_count": null,
   "metadata": {},
   "outputs": [],
   "source": []
  }
 ],
 "metadata": {
  "kernelspec": {
   "display_name": "Python [conda env:stable]",
   "language": "python",
   "name": "conda-env-stable-py"
  },
  "language_info": {
   "codemirror_mode": {
    "name": "ipython",
    "version": 3
   },
   "file_extension": ".py",
   "mimetype": "text/x-python",
   "name": "python",
   "nbconvert_exporter": "python",
   "pygments_lexer": "ipython3",
   "version": "3.6.5"
  },
  "toc": {
   "base_numbering": 1,
   "nav_menu": {},
   "number_sections": true,
   "sideBar": true,
   "skip_h1_title": false,
   "title_cell": "Table of Contents",
   "title_sidebar": "Contents",
   "toc_cell": true,
   "toc_position": {},
   "toc_section_display": "block",
   "toc_window_display": false
  }
 },
 "nbformat": 4,
 "nbformat_minor": 2
}
